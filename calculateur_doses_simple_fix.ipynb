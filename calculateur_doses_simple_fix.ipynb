{
  "cells": [
    {
      "cell_type": "markdown",
      "metadata": {},
      "source": [
        "# 🔬 Calculateur de doses - Études précliniques\n",
        "\n",
        "Application simple pour calculer les besoins en produits pour vos études in vivo"
      ]
    },
    {
      "cell_type": "code",
      "execution_count": null,
      "metadata": {
        "tags": [
          "hide_code"
        ]
      },
      "outputs": [],
      "source": [
        "import pandas as pd\n",
        "from ipywidgets import (\n",
        "    IntSlider, FloatSlider, Text, Button, VBox, HBox, \n",
        "    FloatText, Dropdown, Output, HTML, Label\n",
        ")\n",
        "from IPython.display import display, Markdown, clear_output, HTML as DisplayHTML\n",
        "from datetime import datetime\n",
        "import warnings\n",
        "warnings.filterwarnings('ignore')"
      ]
    },
    {
      "cell_type": "code",
      "execution_count": null,
      "metadata": {
        "tags": [
          "hide_code"
        ]
      },
      "outputs": [],
      "source": [
        "# Configuration CSS pour une meilleure apparence\n",
        "display(DisplayHTML(\"\"\"\n",
        "<style>\n",
        ".widget-label { font-weight: bold; color: #333; }\n",
        ".widget-output { margin: 10px 0; }\n",
        "</style>\n",
        "\"\"\"))"
      ]
    },
    {
      "cell_type": "markdown",
      "metadata": {},
      "source": [
        "## ⚙️ Paramètres de l'étude"
      ]
    },
    {
      "cell_type": "code",
      "execution_count": null,
      "metadata": {
        "tags": [
          "hide_code"
        ]
      },
      "outputs": [],
      "source": [
        "# Paramètres globaux avec meilleur formatage\n",
        "study_name = Text(\n",
        "    value='Mon étude',\n",
        "    placeholder='Nom de l\\'étude',\n",
        "    description='Nom de l\\'étude:',\n",
        "    style={'description_width': '180px'},\n",
        "    layout={'width': '400px'}\n",
        ")\n",
        "\n",
        "n_mice = IntSlider(\n",
        "    value=8,\n",
        "    min=1,\n",
        "    max=50,\n",
        "    step=1,\n",
        "    description='Souris par groupe:',\n",
        "    style={'description_width': '180px'},\n",
        "    layout={'width': '500px'}\n",
        ")\n",
        "\n",
        "weight = FloatSlider(\n",
        "    value=20,\n",
        "    min=1,\n",
        "    max=100,\n",
        "    step=1,\n",
        "    description='Poids moyen (g):',\n",
        "    style={'description_width': '180px'},\n",
        "    layout={'width': '500px'}\n",
        ")\n",
        "\n",
        "duration = IntSlider(\n",
        "    value=21,\n",
        "    min=1,\n",
        "    max=180,\n",
        "    step=1,\n",
        "    description='Durée (jours):',\n",
        "    style={'description_width': '180px'},\n",
        "    layout={'width': '500px'}\n",
        ")\n",
        "\n",
        "margin = FloatSlider(\n",
        "    value=10,\n",
        "    min=0,\n",
        "    max=50,\n",
        "    step=5,\n",
        "    description='Marge de sécurité (%):',\n",
        "    style={'description_width': '180px'},\n",
        "    layout={'width': '500px'}\n",
        ")\n",
        "\n",
        "info_margin = Label(value='💡 Conseil: 10-20% pour compenser les pertes de préparation')\n",
        "\n",
        "params_box = VBox([\n",
        "    study_name,\n",
        "    n_mice,\n",
        "    weight,\n",
        "    duration,\n",
        "    margin,\n",
        "    DisplayHTML('<p style=\"color: #0066cc; font-size: 12px; margin-top: 10px;\">💡 Conseil: Ajoutez 10-20% de marge pour compenser les pertes</p>')\n",
        "])\n",
        "\n",
        "display(params_box)"
      ]
    },
    {
      "cell_type": "markdown",
      "metadata": {},
      "source": [
        "## 📋 Définition des groupes"
      ]
    },
    {
      "cell_type": "code",
      "execution_count": null,
      "metadata": {
        "tags": [
          "hide_code"
        ]
      },
      "outputs": [],
      "source": [
        "n_groups = IntSlider(\n",
        "    value=5,\n",
        "    min=1,\n",
        "    max=20,\n",
        "    step=1,\n",
        "    description='Nombre de groupes:',\n",
        "    style={'description_width': '180px'},\n",
        "    layout={'width': '500px'}\n",
        ")\n",
        "\n",
        "display(n_groups)"
      ]
    },
    {
      "cell_type": "code",
      "execution_count": null,
      "metadata": {
        "tags": [
          "hide_code"
        ]
      },
      "outputs": [],
      "source": [
        "# Initialisation globale\n",
        "groups_list = []\n",
        "groups_output = Output()\n",
        "\n",
        "def create_group_widgets(n):\n",
        "    groups_widgets = []\n",
        "    \n",
        "    for i in range(n):\n",
        "        group_name = Text(\n",
        "            value='Groupe ' + str(i+1),\n",
        "            description='Nom:',\n",
        "            style={'description_width': '100px'},\n",
        "            layout={'width': '300px'}\n",
        "        )\n",
        "        \n",
        "        dose = FloatText(\n",
        "            value=0,\n",
        "            min=0,\n",
        "            max=1000,\n",
        "            step=5,\n",
        "            description='Dose (mg/kg):',\n",
        "            style={'description_width': '130px'},\n",
        "            layout={'width': '250px'}\n",
        "        )\n",
        "        \n",
        "        dosing = Dropdown(\n",
        "            options=[('QD (Quotidien)', 1), ('BID (2x/jour)', 0.5)],\n",
        "            value=1,\n",
        "            description='Dosing:',\n",
        "            style={'description_width': '100px'}\n",
        "        )\n",
        "        \n",
        "        group_box = VBox([\n",
        "            DisplayHTML('<h4 style=\"color: #0066cc; margin: 15px 0 10px 0;\">📌 Groupe ' + str(i+1) + '</h4>'),\n",
        "            HBox([group_name, dose, dosing]),\n",
        "        ])\n",
        "        \n",
        "        groups_widgets.append({\n",
        "            'name': group_name,\n",
        "            'dose': dose,\n",
        "            'dosing': dosing,\n",
        "            'box': group_box\n",
        "        })\n",
        "    \n",
        "    return groups_widgets\n",
        "\n",
        "def update_groups(change=None):\n",
        "    global groups_list\n",
        "    n = n_groups.value\n",
        "    groups_list = create_group_widgets(n)\n",
        "    \n",
        "    with groups_output:\n",
        "        clear_output()\n",
        "        display(VBox([g['box'] for g in groups_list]))\n",
        "\n",
        "n_groups.observe(update_groups, names='value')\n",
        "update_groups()\n",
        "display(groups_output)"
      ]
    },
    {
      "cell_type": "markdown",
      "metadata": {},
      "source": [
        "## 📊 Résultats"
      ]
    },
    {
      "cell_type": "code",
      "execution_count": null,
      "metadata": {
        "tags": [
          "hide_code"
        ]
      },
      "outputs": [],
      "source": [
        "def calculate_doses():\n",
        "    if not groups_list:\n",
        "        return None\n",
        "    \n",
        "    wt_kg = weight.value / 1000\n",
        "    results = []\n",
        "    \n",
        "    for idx, group in enumerate(groups_list, 1):\n",
        "        group_name = group['name'].value\n",
        "        dose = group['dose'].value\n",
        "        dosing_freq = group['dosing'].value\n",
        "        \n",
        "        n_doses = duration.value / dosing_freq\n",
        "        total_dose = dose * wt_kg * n_mice.value * n_doses\n",
        "        total_dose_margin = total_dose * (1 + margin.value/100)\n",
        "        \n",
        "        dosing_label = 'QD' if dosing_freq == 1 else 'BID'\n",
        "        margin_int = int(margin.value)\n",
        "        \n",
        "        results.append({\n",
        "            'Groupe': 'G' + str(idx) + ': ' + group_name,\n",
        "            'Dose (mg/kg)': dose,\n",
        "            'Dosing': dosing_label,\n",
        "            'Composé (mg)': round(total_dose, 2),\n",
        "            'Composé +' + str(margin_int) + '% (mg)': round(total_dose_margin, 2)\n",
        "        })\n",
        "    \n",
        "    df = pd.DataFrame(results)\n",
        "    return df\n",
        "\n",
        "calc_button = Button(\n",
        "    description='🧮 CALCULER LES QUANTITÉS',\n",
        "    button_style='success',\n",
        "    tooltip='Lance le calcul des doses',\n",
        "    layout={'width': '300px', 'height': '40px'},\n",
        "    font_size='14'\n",
        ")\n",
        "\n",
        "results_output = Output()\n",
        "\n",
        "def on_calc_button_clicked(b):\n",
        "    with results_output:\n",
        "        clear_output()\n",
        "        df = calculate_doses()\n",
        "        \n",
        "        if df is not None:\n",
        "            study = study_name.value\n",
        "            \n",
        "            # En-tête\n",
        "            display(DisplayHTML('<hr>'))\n",
        "            display(DisplayHTML('<h3 style=\"color: #333;\">✅ Résultats pour: <b style=\"color: #0066cc;\">' + study + '</b></h3>'))\n",
        "            \n",
        "            # Tableau avec meilleur formatage\n",
        "            df_display = df.copy()\n",
        "            display(df_display)\n",
        "            \n",
        "            # Métriques principales\n",
        "            margin_int = int(margin.value)\n",
        "            total_col = 'Composé +' + str(margin_int) + '% (mg)'\n",
        "            total = df[total_col].sum()\n",
        "            total_without_margin = df['Composé (mg)'].sum()\n",
        "            \n",
        "            display(DisplayHTML('<hr>'))\n",
        "            display(DisplayHTML(\n",
        "                '<h3 style=\"text-align: center;\">📦 Quantité totale à commander</h3>' +\n",
        "                '<div style=\"display: flex; justify-content: center; gap: 40px; margin: 20px 0;\">' +\n",
        "                '<div style=\"text-align: center; padding: 15px; background: #f0f0f0; border-radius: 8px;\">' +\n",
        "                '<p style=\"margin: 0; color: #666; font-size: 12px;\">Sans marge</p>' +\n",
        "                '<p style=\"margin: 5px 0 0 0; font-size: 24px; font-weight: bold; color: #0066cc;\">' + str(round(total_without_margin, 1)) + ' mg</p>' +\n",
        "                '</div>' +\n",
        "                '<div style=\"text-align: center; padding: 15px; background: #e8f4f8; border-radius: 8px; border: 2px solid #0066cc;\">' +\n",
        "                '<p style=\"margin: 0; color: #0066cc; font-size: 12px; font-weight: bold;\">Avec marge (+' + str(margin_int) + '%)</p>' +\n",
        "                '<p style=\"margin: 5px 0 0 0; font-size: 28px; font-weight: bold; color: #0066cc;\">' + str(round(total, 1)) + ' mg</p>' +\n",
        "                '</div>' +\n",
        "                '</div>'\n",
        "            ))\n",
        "            \n",
        "            # Boutons d'export\n",
        "            export_csv_btn = Button(\n",
        "                description='📥 Télécharger CSV',\n",
        "                button_style='info',\n",
        "                tooltip='Exporte les résultats en CSV',\n",
        "                layout={'width': '180px'}\n",
        "            )\n",
        "            \n",
        "            export_excel_btn = Button(\n",
        "                description='📥 Télécharger Excel',\n",
        "                button_style='info',\n",
        "                tooltip='Exporte les résultats en Excel',\n",
        "                layout={'width': '180px'}\n",
        "            )\n",
        "            \n",
        "            def export_csv(b):\n",
        "                study_clean = study_name.value.replace(' ', '_')\n",
        "                date_str = datetime.now().strftime('%Y%m%d')\n",
        "                filename = 'doses_' + study_clean + '_' + date_str + '.csv'\n",
        "                df.to_csv(filename, index=False)\n",
        "                print('✅ Fichier exporté: ' + filename)\n",
        "            \n",
        "            def export_excel(b):\n",
        "                study_clean = study_name.value.replace(' ', '_')\n",
        "                date_str = datetime.now().strftime('%Y%m%d')\n",
        "                filename = 'doses_' + study_clean + '_' + date_str + '.xlsx'\n",
        "                df.to_excel(filename, index=False, sheet_name='Doses')\n",
        "                print('✅ Fichier exporté: ' + filename)\n",
        "            \n",
        "            export_csv_btn.on_click(export_csv)\n",
        "            export_excel_btn.on_click(export_excel)\n",
        "            \n",
        "            display(DisplayHTML('<h4>Exporter les résultats</h4>'))\n",
        "            display(HBox([export_csv_btn, export_excel_btn]))\n",
        "            display(DisplayHTML('<hr>'))\n",
        "\n",
        "calc_button.on_click(on_calc_button_clicked)\n",
        "display(DisplayHTML('<br>'))\n",
        "display(calc_button)\n",
        "display(results_output)"
      ]
    },
    {
      "cell_type": "markdown",
      "metadata": {},
      "source": [
        "## ℹ️ Information"
      ]
    },
    {
      "cell_type": "code",
      "execution_count": null,
      "metadata": {
        "tags": [
          "hide_code"
        ]
      },
      "outputs": [],
      "source": [
        "display(DisplayHTML(\"\"\"\n",
        "<div style=\"background: #f9f9f9; padding: 15px; border-left: 4px solid #0066cc; margin-top: 20px;\">\n",
        "<h4 style=\"margin-top: 0; color: #0066cc;\">📖 Informations de calcul</h4>\n",
        "<p><b>QD (Once Daily)</b>: 1 dose par jour</p>\n",
        "<p><b>BID (Twice Daily)</b>: 2 doses par jour</p>\n",
        "<p style=\"margin-bottom: 0;\"><b>Formule</b>: Total = Dose (mg/kg) × Poids (kg) × Nombre d'animaux × Nombre de doses</p>\n",
        "</div>\n",
        "\"\"\"))"
      ]
    }
  ],
  "metadata": {
    "kernelspec": {
      "display_name": "Python 3",
      "language": "python",
      "name": "python3"
    },
    "language_info": {
      "name": "python",
      "version": "3.9.0"
    }
  },
  "nbformat": 4,
  "nbformat_minor": 4
}