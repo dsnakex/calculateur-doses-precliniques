{
 "cells": [
  {
   "cell_type": "markdown",
   "metadata": {},
   "source": [
    "# 🔬 Calculateur de doses - Études précliniques\n",
    "\n",
    "Application simple pour calculer les besoins en produits pour vos études in vivo"
   ]
  },
  {
   "cell_type": "code",
   "execution_count": 1,
   "metadata": {},
   "outputs": [],
   "source": [
    "import pandas as pd\n",
    "from ipywidgets import (\n",
    "    IntSlider, FloatSlider, Text, Button, VBox, HBox, \n",
    "    FloatText, Dropdown, Output, HTML\n",
    ")\n",
    "from IPython.display import display, Markdown, clear_output\n",
    "from datetime import datetime"
   ]
  },
  {
   "cell_type": "markdown",
   "metadata": {},
   "source": [
    "## ⚙️ Paramètres de l'étude"
   ]
  },
  {
   "cell_type": "code",
   "execution_count": 2,
   "metadata": {},
   "outputs": [
    {
     "data": {
      "application/vnd.jupyter.widget-view+json": {
       "model_id": "bc48eb0f09004c0ea9263ca7f8dd0ef4",
       "version_major": 2,
       "version_minor": 0
      },
      "text/plain": [
       "VBox(children=(Text(value='Étude préclinique', description='Nom:', placeholder=\"Nom de l'étude\", style=TextSty…"
      ]
     },
     "metadata": {},
     "output_type": "display_data"
    }
   ],
   "source": [
    "# Paramètres globaux\n",
    "study_name = Text(\n",
    "    value='Étude préclinique',\n",
    "    placeholder='Nom de l\\'étude',\n",
    "    description='Nom:',\n",
    "    style={'description_width': '150px'}\n",
    ")\n",
    "\n",
    "n_mice = IntSlider(\n",
    "    value=8,\n",
    "    min=1,\n",
    "    max=50,\n",
    "    step=1,\n",
    "    description='Souris/groupe:',\n",
    "    style={'description_width': '150px'}\n",
    ")\n",
    "\n",
    "weight = FloatSlider(\n",
    "    value=20,\n",
    "    min=1,\n",
    "    max=100,\n",
    "    step=1,\n",
    "    description='Poids (g):',\n",
    "    style={'description_width': '150px'}\n",
    ")\n",
    "\n",
    "duration = IntSlider(\n",
    "    value=21,\n",
    "    min=1,\n",
    "    max=180,\n",
    "    step=1,\n",
    "    description='Durée (jours):',\n",
    "    style={'description_width': '150px'}\n",
    ")\n",
    "\n",
    "margin = FloatSlider(\n",
    "    value=10,\n",
    "    min=0,\n",
    "    max=50,\n",
    "    step=5,\n",
    "    description='Marge (%):',\n",
    "    style={'description_width': '150px'}\n",
    ")\n",
    "\n",
    "display(\n",
    "    VBox([\n",
    "        study_name,\n",
    "        n_mice,\n",
    "        weight,\n",
    "        duration,\n",
    "        margin,\n",
    "        HTML(\"<p style='color: #0066cc; font-size: 12px;'>💡 Conseil: Ajoutez 10-20% de marge pour compenser les pertes</p>\")\n",
    "    ])\n",
    ")"
   ]
  },
  {
   "cell_type": "markdown",
   "metadata": {},
   "source": [
    "## 📋 Définition des groupes"
   ]
  },
  {
   "cell_type": "code",
   "execution_count": 19,
   "metadata": {},
   "outputs": [
    {
     "data": {
      "application/vnd.jupyter.widget-view+json": {
       "model_id": "bba07face0fc4a24af58b8b875ee9ae7",
       "version_major": 2,
       "version_minor": 0
      },
      "text/plain": [
       "IntSlider(value=5, description='Nombre de groupes:', max=20, min=1, style=SliderStyle(description_width='150px…"
      ]
     },
     "metadata": {},
     "output_type": "display_data"
    }
   ],
   "source": [
    "n_groups = IntSlider(\n",
    "    value=5,\n",
    "    min=1,\n",
    "    max=20,\n",
    "    step=1,\n",
    "    description='Nombre de groupes:',\n",
    "    style={'description_width': '150px'}\n",
    ")\n",
    "\n",
    "display(n_groups)"
   ]
  },
  {
   "cell_type": "code",
   "execution_count": 20,
   "metadata": {},
   "outputs": [
    {
     "data": {
      "application/vnd.jupyter.widget-view+json": {
       "model_id": "df6f0ff069c745158a28832ac971fbe5",
       "version_major": 2,
       "version_minor": 0
      },
      "text/plain": [
       "Output()"
      ]
     },
     "metadata": {},
     "output_type": "display_data"
    }
   ],
   "source": [
    "# Initialisation globale\n",
    "groups_list = []\n",
    "groups_output = Output()\n",
    "\n",
    "def create_group_widgets(n):\n",
    "    groups_widgets = []\n",
    "    \n",
    "    for i in range(n):\n",
    "        group_name = Text(\n",
    "            value='Groupe ' + str(i+1),\n",
    "            description='Nom:',\n",
    "            style={'description_width': '80px'},\n",
    "            layout={'width': '250px'}\n",
    "        )\n",
    "        \n",
    "        dose = FloatText(\n",
    "            value=0,\n",
    "            min=0,\n",
    "            max=1000,\n",
    "            step=5,\n",
    "            description='Dose (mg/kg):',\n",
    "            style={'description_width': '120px'},\n",
    "            layout={'width': '200px'}\n",
    "        )\n",
    "        \n",
    "        dosing = Dropdown(\n",
    "            options=[('QD (Quotidien)', 1), ('BID (2x/jour)', 0.5)],\n",
    "            value=1,\n",
    "            description='Dosing:',\n",
    "            style={'description_width': '80px'}\n",
    "        )\n",
    "        \n",
    "        group_box = VBox([\n",
    "            HTML('<b style=\"color: #0066cc;\">━━━ Groupe ' + str(i+1) + ' ━━━</b>'),\n",
    "            group_name,\n",
    "            HBox([dose, dosing]),\n",
    "            HTML('<br>')\n",
    "        ])\n",
    "        \n",
    "        groups_widgets.append({\n",
    "            'name': group_name,\n",
    "            'dose': dose,\n",
    "            'dosing': dosing,\n",
    "            'box': group_box\n",
    "        })\n",
    "    \n",
    "    return groups_widgets\n",
    "\n",
    "def update_groups(change=None):\n",
    "    global groups_list\n",
    "    n = n_groups.value\n",
    "    groups_list = create_group_widgets(n)\n",
    "    \n",
    "    with groups_output:\n",
    "        clear_output()\n",
    "        display(VBox([g['box'] for g in groups_list]))\n",
    "\n",
    "n_groups.observe(update_groups, names='value')\n",
    "update_groups()\n",
    "display(groups_output)"
   ]
  },
  {
   "cell_type": "markdown",
   "metadata": {},
   "source": [
    "## 📊 Calcul et résultats"
   ]
  },
  {
   "cell_type": "code",
   "execution_count": 21,
   "metadata": {},
   "outputs": [
    {
     "data": {
      "application/vnd.jupyter.widget-view+json": {
       "model_id": "9eff7a19141c463faef082a3e3e15959",
       "version_major": 2,
       "version_minor": 0
      },
      "text/plain": [
       "Button(button_style='success', description='🧮 Calculer', style=ButtonStyle(), tooltip='Lance le calcul des dos…"
      ]
     },
     "metadata": {},
     "output_type": "display_data"
    },
    {
     "data": {
      "application/vnd.jupyter.widget-view+json": {
       "model_id": "a43c4bb7f86248728c14f37c5608e971",
       "version_major": 2,
       "version_minor": 0
      },
      "text/plain": [
       "Output()"
      ]
     },
     "metadata": {},
     "output_type": "display_data"
    }
   ],
   "source": [
    "def calculate_doses():\n",
    "    if not groups_list:\n",
    "        display(HTML('<p style=\"color: red;\">❌ Aucun groupe défini</p>'))\n",
    "        return\n",
    "    \n",
    "    wt_kg = weight.value / 1000\n",
    "    results = []\n",
    "    \n",
    "    for idx, group in enumerate(groups_list, 1):\n",
    "        group_name = group['name'].value\n",
    "        dose = group['dose'].value\n",
    "        dosing_freq = group['dosing'].value\n",
    "        \n",
    "        n_doses = duration.value / dosing_freq\n",
    "        total_dose = dose * wt_kg * n_mice.value * n_doses\n",
    "        total_dose_margin = total_dose * (1 + margin.value/100)\n",
    "        \n",
    "        dosing_label = 'QD' if dosing_freq == 1 else 'BID'\n",
    "        margin_int = int(margin.value)\n",
    "        \n",
    "        results.append({\n",
    "            'Groupe': 'G' + str(idx) + ': ' + group_name,\n",
    "            'Dose (mg/kg)': dose,\n",
    "            'Dosing': dosing_label,\n",
    "            'Composé (mg)': round(total_dose, 2),\n",
    "            'Composé +' + str(margin_int) + '% (mg)': round(total_dose_margin, 2)\n",
    "        })\n",
    "    \n",
    "    df = pd.DataFrame(results)\n",
    "    return df\n",
    "\n",
    "calc_button = Button(\n",
    "    description='🧮 Calculer',\n",
    "    button_style='success',\n",
    "    tooltip='Lance le calcul des doses'\n",
    ")\n",
    "\n",
    "results_output = Output()\n",
    "\n",
    "def on_calc_button_clicked(b):\n",
    "    with results_output:\n",
    "        clear_output()\n",
    "        df = calculate_doses()\n",
    "        \n",
    "        if df is not None:\n",
    "            study = study_name.value\n",
    "            display(Markdown('### Résultats: **' + study + '**'))\n",
    "            display(df)\n",
    "            \n",
    "            margin_int = int(margin.value)\n",
    "            total_col = 'Composé +' + str(margin_int) + '% (mg)'\n",
    "            total = df[total_col].sum()\n",
    "            \n",
    "            display(HTML('<h4>📦 Quantité totale à commander: <b style=\"color: #0066cc; font-size: 18px;\">' + str(round(total, 1)) + ' mg</b></h4>'))\n",
    "            \n",
    "            export_csv_btn = Button(\n",
    "                description='📥 CSV',\n",
    "                button_style='info',\n",
    "                tooltip='Exporte en CSV'\n",
    "            )\n",
    "            \n",
    "            export_excel_btn = Button(\n",
    "                description='📥 Excel',\n",
    "                button_style='info',\n",
    "                tooltip='Exporte en Excel'\n",
    "            )\n",
    "            \n",
    "            def export_csv(b):\n",
    "                study_clean = study_name.value.replace(' ', '_')\n",
    "                date_str = datetime.now().strftime('%Y%m%d')\n",
    "                filename = 'doses_' + study_clean + '_' + date_str + '.csv'\n",
    "                df.to_csv(filename, index=False)\n",
    "                print('✅ Fichier exporté: ' + filename)\n",
    "            \n",
    "            def export_excel(b):\n",
    "                study_clean = study_name.value.replace(' ', '_')\n",
    "                date_str = datetime.now().strftime('%Y%m%d')\n",
    "                filename = 'doses_' + study_clean + '_' + date_str + '.xlsx'\n",
    "                df.to_excel(filename, index=False, sheet_name='Doses')\n",
    "                print('✅ Fichier exporté: ' + filename)\n",
    "            \n",
    "            export_csv_btn.on_click(export_csv)\n",
    "            export_excel_btn.on_click(export_excel)\n",
    "            \n",
    "            display(HBox([export_csv_btn, export_excel_btn]))\n",
    "\n",
    "calc_button.on_click(on_calc_button_clicked)\n",
    "display(calc_button)\n",
    "display(results_output)"
   ]
  },
  {
   "cell_type": "markdown",
   "metadata": {},
   "source": [
    "## ℹ️ Informations\n",
    "\n",
    "**QD (Once Daily)**: 1 dose par jour  \n",
    "**BID (Twice Daily)**: 2 doses par jour  \n",
    "\n",
    "**Formule de calcul**:  \n",
    "Total = Dose (mg/kg) × Poids (kg) × Nombre d'animaux × Nombre de doses"
   ]
  }
 ],
 "metadata": {
  "kernelspec": {
   "display_name": "Python 3 (ipykernel)",
   "language": "python",
   "name": "python3"
  },
  "language_info": {
   "codemirror_mode": {
    "name": "ipython",
    "version": 3
   },
   "file_extension": ".py",
   "mimetype": "text/x-python",
   "name": "python",
   "nbconvert_exporter": "python",
   "pygments_lexer": "ipython3",
   "version": "3.13.5"
  }
 },
 "nbformat": 4,
 "nbformat_minor": 4
}
